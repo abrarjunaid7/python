{
 "cells": [
  {
   "cell_type": "markdown",
   "id": "8ff77e89",
   "metadata": {},
   "source": [
    "# DSA - Mock Test 1 - Python SOLUTIONS"
   ]
  },
  {
   "cell_type": "markdown",
   "id": "27162b1f",
   "metadata": {},
   "source": [
    "1. Move Zeroes\n",
    "Given an integer array nums, move all 0's to the end of it while maintaining the relative order of the non-zero elements.\n",
    "Note that you must do this in-place without making a copy of the array.\n",
    "Example 1:\n",
    "Input: nums = [0,1,0,3,12]\n",
    "Output: [1,3,12,0,0]\n",
    "Example 2:\n",
    "Input: nums = [0]\n",
    "Output: [0]"
   ]
  },
  {
   "cell_type": "code",
   "execution_count": 36,
   "id": "faeb5989",
   "metadata": {},
   "outputs": [
    {
     "name": "stdout",
     "output_type": "stream",
     "text": [
      "[1, 3, 12, 0, 0]\n"
     ]
    }
   ],
   "source": [
    "s=[0,1,0,3,12]\n",
    "s.sort()\n",
    "l=[]\n",
    "for i in s:\n",
    "    if i!=0:\n",
    "        l.append(i)\n",
    "for i in s:\n",
    "    if i==0:\n",
    "        l.append(i)\n",
    "print(l)\n",
    "    "
   ]
  },
  {
   "cell_type": "code",
   "execution_count": 5,
   "id": "5337fe60",
   "metadata": {},
   "outputs": [
    {
     "name": "stdout",
     "output_type": "stream",
     "text": [
      "0 1 0 3 12\n",
      "[1, 3, 12, 0, 0]\n"
     ]
    }
   ],
   "source": [
    "n=input()\n",
    "s1=n.split()\n",
    "s=[]\n",
    "for i in s1:\n",
    "    s.append(int(i))\n",
    "#print(s)\n",
    "l=[]\n",
    "for i in s:\n",
    "    if i!=0:\n",
    "        l.append(i)\n",
    "for i in s:\n",
    "    if i==0:\n",
    "        l.append(i)\n",
    "print(l)\n"
   ]
  },
  {
   "cell_type": "markdown",
   "id": "e78864bf",
   "metadata": {},
   "source": [
    "2. First Unique Character in a String\n",
    "Given a string s, find the first non-repeating character in it and return its index. If it does not exist, return -1.\n",
    "Example 1:\n",
    "Input: s = \"leetcode\"\n",
    "Output: 0\n",
    "Example 2:\n",
    "Input: s = \"loveleetcode\"\n",
    "Output: 2\n",
    "Example 3:\n",
    "Input: s = \"aabb\"\n",
    "Output: -1"
   ]
  },
  {
   "cell_type": "code",
   "execution_count": 37,
   "id": "4471391f",
   "metadata": {},
   "outputs": [
    {
     "name": "stdout",
     "output_type": "stream",
     "text": [
      "leetcode\n",
      "0\n"
     ]
    }
   ],
   "source": [
    "s=input()\n",
    "l=[]\n",
    "l1=[]\n",
    "l2=[]\n",
    "for i in s:\n",
    "    l1.append(i)\n",
    "#print(l1)\n",
    "for i in l1:\n",
    "    a=l1.count(i)\n",
    "    if a==1:\n",
    "        l.append(i)\n",
    "for i in range(len(l1)):\n",
    "    for j in range(len(l)):\n",
    "        if l1[i]==l[j]:\n",
    "            l2.append(i)\n",
    "\n",
    "print(l2[0])\n",
    "\n",
    "        \n",
    "#print(l)\n",
    "    \n",
    "    "
   ]
  },
  {
   "cell_type": "code",
   "execution_count": null,
   "id": "71cc3747",
   "metadata": {},
   "outputs": [],
   "source": []
  },
  {
   "cell_type": "code",
   "execution_count": null,
   "id": "95b2e57e",
   "metadata": {},
   "outputs": [],
   "source": []
  }
 ],
 "metadata": {
  "kernelspec": {
   "display_name": "Python 3 (ipykernel)",
   "language": "python",
   "name": "python3"
  },
  "language_info": {
   "codemirror_mode": {
    "name": "ipython",
    "version": 3
   },
   "file_extension": ".py",
   "mimetype": "text/x-python",
   "name": "python",
   "nbconvert_exporter": "python",
   "pygments_lexer": "ipython3",
   "version": "3.9.12"
  }
 },
 "nbformat": 4,
 "nbformat_minor": 5
}
