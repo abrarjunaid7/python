{
 "cells": [
  {
   "cell_type": "markdown",
   "id": "d47abcf6",
   "metadata": {},
   "source": [
    "# PYTHON BASICS ASSIGNMENT 2 SOLUTONS:\n",
    "1. What are the two values of the Boolean data type? How do you write them?\n",
    "ANS:True and False are two values of the boolen data types. We have to use capital T and F and with the rest of the word in lowercase"
   ]
  },
  {
   "cell_type": "code",
   "execution_count": 1,
   "id": "12877655",
   "metadata": {},
   "outputs": [
    {
     "name": "stdout",
     "output_type": "stream",
     "text": [
      "<class 'bool'>\n",
      "<class 'bool'>\n"
     ]
    }
   ],
   "source": [
    "a=True\n",
    "b=False\n",
    "print(type(a))\n",
    "print(type(b))"
   ]
  },
  {
   "cell_type": "markdown",
   "id": "3e4c5b0f",
   "metadata": {},
   "source": [
    "2. What are the three different types of Boolean operators?\n",
    "ANS:THE three different types of boolean operators are:or,and,not"
   ]
  },
  {
   "cell_type": "code",
   "execution_count": 2,
   "id": "30ac6bf1",
   "metadata": {},
   "outputs": [
    {
     "name": "stdout",
     "output_type": "stream",
     "text": [
      "True\n",
      "True\n",
      "False\n"
     ]
    }
   ],
   "source": [
    "a=50\n",
    "b=20\n",
    "print(a>5 and b>10) #boolean and\n",
    "print(a>20or b>10) #boolean or\n",
    "print(not(a>10)) #boolean not"
   ]
  },
  {
   "cell_type": "raw",
   "id": "0262ab2a",
   "metadata": {},
   "source": [
    "3. Make a list of each Boolean operators truth tables (i.e. every possible combination of Boolean\n",
    "values for the operator and what it evaluate ).\n",
    "\n",
    "ANS:\n",
    "\n",
    "Truth Table of and operator:\n",
    "T and T is T\n",
    "T and F is F\n",
    "F and T is F\n",
    "F and F is F\n",
    "\n",
    "Truth Table of or operaotor\n",
    "T and T is T\n",
    "T and F is T\n",
    "F and Tis T\n",
    "F and F is F\n",
    "\n",
    "Truth Table of not operaotor\n",
    "T not is F\n",
    "F not is T"
   ]
  },
  {
   "cell_type": "markdown",
   "id": "5ff06869",
   "metadata": {},
   "source": [
    "4. What are the values of the following expressions ?\n",
    ".(5 > 4) and (3 == 5)\n",
    ".not (5 > 4)\n",
    ".(5 > 4) or (3 == 5)\n",
    ".not ((5 > 4) or (3 == 5))\n",
    ".(True and True) and (True == False)\n",
    ".(not False) or (not True)"
   ]
  },
  {
   "cell_type": "code",
   "execution_count": 3,
   "id": "ad521ad7",
   "metadata": {},
   "outputs": [
    {
     "name": "stdout",
     "output_type": "stream",
     "text": [
      "False\n",
      "False\n",
      "True\n",
      "False\n",
      "False\n",
      "True\n"
     ]
    }
   ],
   "source": [
    "print((5>4)and(3==5)) \n",
    "print(not(5>4))\n",
    "print((5>4)or(3==5)) \n",
    "print(not((5>4)or(3==5)))\n",
    "print((True and True)and(True==False))\n",
    "print((not False)or(not True))"
   ]
  },
  {
   "cell_type": "markdown",
   "id": "a44eebcc",
   "metadata": {},
   "source": [
    "5. What are the six comparison operators?\n",
    "ANS:The Six comparision operators are:\n",
    "        == , != , < , > , <= , =>"
   ]
  },
  {
   "cell_type": "markdown",
   "id": "78fa3c2b",
   "metadata": {},
   "source": [
    "6. How do you tell the difference between the equal to and assignment operators?Describe a\n",
    "   condition and when you would use one?\n",
    "ANS:  == is the equal to operator that compares two values and evaluates to a Boolean\n",
    "       = is that assignment operator that stores a value in a variable."
   ]
  },
  {
   "cell_type": "code",
   "execution_count": 4,
   "id": "39bfc9c5",
   "metadata": {},
   "outputs": [
    {
     "name": "stdout",
     "output_type": "stream",
     "text": [
      "True\n"
     ]
    }
   ],
   "source": [
    "a=8# Assigned operator that stores 8 value in a variable a\n",
    "if a==8:#comparing values with 8\n",
    "    print(a==8) "
   ]
  },
  {
   "cell_type": "markdown",
   "id": "112910e3",
   "metadata": {},
   "source": [
    "7. Identify the three blocks in this code:\n",
    " spam = 0\n",
    " if spam == 10:\n",
    " print('eggs')\n",
    " if spam > 5:\n",
    " print('bacon')\n",
    " else:\n",
    " print('ham')\n",
    " print('spam')\n",
    " print('spam')\n",
    "ANS:"
   ]
  },
  {
   "cell_type": "code",
   "execution_count": 7,
   "id": "932aa0e8",
   "metadata": {},
   "outputs": [
    {
     "name": "stdout",
     "output_type": "stream",
     "text": [
      "ham\n",
      "spam\n",
      "spam\n"
     ]
    }
   ],
   "source": [
    "spam = 0  \n",
    "if spam == 10:  \n",
    "    print('eggs')  # block #1\n",
    "if spam > 5:  \n",
    "    print('bacon')  # block #2\n",
    "else:  \n",
    "    print('ham')  # block #3\n",
    "print('spam')  \n",
    "print('spam')"
   ]
  },
  {
   "cell_type": "markdown",
   "id": "9028d157",
   "metadata": {},
   "source": [
    "8. Write code that prints Hello if 1 is stored in spam, prints Howdy if 2 is stored in spam, and prints Greetings! if anything else is stored in spam.\n",
    "ANS:"
   ]
  },
  {
   "cell_type": "code",
   "execution_count": 11,
   "id": "205a961e",
   "metadata": {},
   "outputs": [
    {
     "name": "stdout",
     "output_type": "stream",
     "text": [
      "Hello\n",
      "Howdy\n",
      "Greetings\n"
     ]
    }
   ],
   "source": [
    "def Test(spam):\n",
    "    if spam==1:\n",
    "        print('Hello')\n",
    "    elif spam==2:\n",
    "        print('Howdy')\n",
    "    else:\n",
    "        print('Greetings')\n",
    "Test(1) \n",
    "Test(2)\n",
    "Test(3)\n",
    "        "
   ]
  },
  {
   "cell_type": "markdown",
   "id": "4a66f803",
   "metadata": {},
   "source": [
    "9. If your programme is stuck in an endless loop, what keys you’ll press?\n",
    "ANS:I will press Ctrl+c when a program is stuck in an infinite loop"
   ]
  },
  {
   "cell_type": "markdown",
   "id": "dbf0e80d",
   "metadata": {},
   "source": [
    "10. How can you tell the difference between break and continue?\n",
    "ANS:The break statement will move the execution outside the loop if break condtion is satisfied.\n",
    "    The continue statement will move the execution to the start of the loop."
   ]
  },
  {
   "cell_type": "markdown",
   "id": "364c0509",
   "metadata": {},
   "source": [
    "11. In a for loop, what is the difference between range(10), range(0, 10), and range(0, 10, 1)?\n",
    "ANS:\n",
    "   The range(10) tell range from 0 to 9 (not include 10)\n",
    "   The range (0,10) tells the loop to start from 0\n",
    "   The range(0,10,1) tells the loop to increment the variable by 1 on each iteration"
   ]
  },
  {
   "cell_type": "markdown",
   "id": "0212e0fe",
   "metadata": {},
   "source": [
    "12. Write a short program that prints the numbers 1 to 10 using a for loop. Then write an equivalent\n",
    "program that prints the numbers 1 to 10 using a while loop.\n",
    "ANS:"
   ]
  },
  {
   "cell_type": "code",
   "execution_count": 15,
   "id": "513382c7",
   "metadata": {},
   "outputs": [
    {
     "name": "stdout",
     "output_type": "stream",
     "text": [
      "USING FOR LOOP\n",
      "1 2 3 4 5 6 7 8 9 10 \n",
      "\n",
      "USING WHILE LOOP\n",
      "1 2 3 4 5 6 7 8 9 10 "
     ]
    }
   ],
   "source": [
    "print(\"USING FOR LOOP\")\n",
    "for i in range(1,11):\n",
    "    print(i, end=\" \")\n",
    "print('\\n')\n",
    "print(\"USING WHILE LOOP\")\n",
    "i=1\n",
    "while i<=10:\n",
    "    print(i, end=\" \")\n",
    "    i+=1"
   ]
  },
  {
   "cell_type": "markdown",
   "id": "2a80582e",
   "metadata": {},
   "source": [
    "13. If you had a function named bacon() inside a module named spam, how would you call it after\n",
    "importing spam?\n",
    "ANS:USING spam.bacon()"
   ]
  },
  {
   "cell_type": "code",
   "execution_count": null,
   "id": "91abc2a8",
   "metadata": {},
   "outputs": [],
   "source": []
  }
 ],
 "metadata": {
  "kernelspec": {
   "display_name": "Python 3 (ipykernel)",
   "language": "python",
   "name": "python3"
  },
  "language_info": {
   "codemirror_mode": {
    "name": "ipython",
    "version": 3
   },
   "file_extension": ".py",
   "mimetype": "text/x-python",
   "name": "python",
   "nbconvert_exporter": "python",
   "pygments_lexer": "ipython3",
   "version": "3.9.12"
  }
 },
 "nbformat": 4,
 "nbformat_minor": 5
}
