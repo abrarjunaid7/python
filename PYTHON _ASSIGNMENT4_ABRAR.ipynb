{
 "cells": [
  {
   "cell_type": "markdown",
   "id": "30f0e75c",
   "metadata": {},
   "source": [
    "# Assignment 3 Solutions\n",
    "1. What exactly is []?\n",
    "Ans:The empty list represented by [] is a list that contains no items. This is similar to '' which represents an empty string."
   ]
  },
  {
   "cell_type": "markdown",
   "id": "1c931fb2",
   "metadata": {},
   "source": [
    "2. In a list of values stored in a variable called spam, how would you assign the value 'hello' as the\n",
    "third value? (Assume [2, 4, 6, 8, 10] are in spam.)\n",
    "Ans:"
   ]
  },
  {
   "cell_type": "code",
   "execution_count": 20,
   "id": "ea58b978",
   "metadata": {},
   "outputs": [
    {
     "name": "stdout",
     "output_type": "stream",
     "text": [
      "[2, 4, 'hello', 8, 10]\n"
     ]
    }
   ],
   "source": [
    "spam=[2,4,6,8,10]\n",
    "spam[2]=\"hello\"    #using index we can assign value\n",
    "print(spam)        #indexing starts from zero"
   ]
  },
  {
   "cell_type": "markdown",
   "id": "29a00f61",
   "metadata": {},
   "source": [
    "Let's pretend the spam includes the list ['a','b','c','d'] for the next three queries.\n",
    "3. What is the value of spam[int(int('3'*2)//11)] ?\n",
    "Ans:"
   ]
  },
  {
   "cell_type": "code",
   "execution_count": 3,
   "id": "3f7b3389",
   "metadata": {},
   "outputs": [
    {
     "data": {
      "text/plain": [
       "'d'"
      ]
     },
     "execution_count": 3,
     "metadata": {},
     "output_type": "execute_result"
    }
   ],
   "source": [
    "spam=['a','b','c','d']\n",
    "print(spam[int(int('3'*2)//11)])      #33//11=3 spam[3]='d'"
   ]
  },
  {
   "cell_type": "markdown",
   "id": "93127636",
   "metadata": {},
   "source": [
    "4. What is the value of spam[-1]?\n",
    "Ans:"
   ]
  },
  {
   "cell_type": "code",
   "execution_count": 4,
   "id": "1e8f82aa",
   "metadata": {},
   "outputs": [
    {
     "data": {
      "text/plain": [
       "'d'"
      ]
     },
     "execution_count": 4,
     "metadata": {},
     "output_type": "execute_result"
    }
   ],
   "source": [
    "print(spam[-1])         #from left indexing starts from -1"
   ]
  },
  {
   "cell_type": "raw",
   "id": "ad8fda10",
   "metadata": {},
   "source": [
    "5. What is the value of spam[:2]?\n",
    "Ans:"
   ]
  },
  {
   "cell_type": "code",
   "execution_count": 5,
   "id": "bf79ad02",
   "metadata": {},
   "outputs": [
    {
     "name": "stdout",
     "output_type": "stream",
     "text": [
      "['a', 'b']\n"
     ]
    }
   ],
   "source": [
    "print(spam[:2])"
   ]
  },
  {
   "cell_type": "markdown",
   "id": "30ec901f",
   "metadata": {},
   "source": [
    "Let's pretend bacon has the list [3.14,'cat',11,'cat',True] for the next three question\n",
    "6. What is the value of bacon.index('cat')?\n",
    "Ans: The value of bacon.index('cat') is 1 "
   ]
  },
  {
   "cell_type": "code",
   "execution_count": 6,
   "id": "cb134683",
   "metadata": {},
   "outputs": [
    {
     "name": "stdout",
     "output_type": "stream",
     "text": [
      "1\n"
     ]
    }
   ],
   "source": [
    "bacon=[3.14,'cat',11,'cat',True]\n",
    "print(bacon.index('cat'))       #prints the index of cat in bacon list"
   ]
  },
  {
   "cell_type": "markdown",
   "id": "31bc2a57",
   "metadata": {},
   "source": [
    "7. How does bacon.append(99) change the look of the list value in bacon?\n",
    "Ans:"
   ]
  },
  {
   "cell_type": "code",
   "execution_count": 15,
   "id": "7ac4a4a1",
   "metadata": {},
   "outputs": [
    {
     "data": {
      "text/plain": [
       "[3.14, 'cat', 11, 'cat', True]"
      ]
     },
     "execution_count": 15,
     "metadata": {},
     "output_type": "execute_result"
    }
   ],
   "source": [
    "bacon.append(99)\n",
    "print(bacon)      #append adds at last index of the list"
   ]
  },
  {
   "cell_type": "markdown",
   "id": "9e69ae4b",
   "metadata": {},
   "source": [
    "8. How does bacon.remove('cat') change the look of the list in bacon?\n",
    "Ans:"
   ]
  },
  {
   "cell_type": "code",
   "execution_count": 16,
   "id": "2ef1ac50",
   "metadata": {},
   "outputs": [
    {
     "name": "stdout",
     "output_type": "stream",
     "text": [
      "[3.14, 11, 'cat', True]\n"
     ]
    }
   ],
   "source": [
    "bacon.remove('cat')\n",
    "print(bacon)            #removes cat ffrom the list"
   ]
  },
  {
   "cell_type": "markdown",
   "id": "38293bd0",
   "metadata": {},
   "source": [
    "9.what are the list concatenation and list replication operations?\n",
    "Ans:"
   ]
  },
  {
   "cell_type": "code",
   "execution_count": 17,
   "id": "85158b22",
   "metadata": {
    "scrolled": true
   },
   "outputs": [
    {
     "name": "stdout",
     "output_type": "stream",
     "text": [
      "['a', 'b', 'c', 'd', 'x', 'y', 'z']\n",
      "['x', 'y', 'z', 'x', 'y', 'z', 'x', 'y', 'z']\n"
     ]
    }
   ],
   "source": [
    "l1 = ['a','b','c','d']\n",
    "l2 = ['x','y','z']\n",
    "print(l1 + l2)            # List Concatenation\n",
    "print(l2*3)                # List Replication"
   ]
  },
  {
   "cell_type": "markdown",
   "id": "59273d80",
   "metadata": {},
   "source": [
    "10.what is the difference between the list method append() and insert()?\n",
    "Ans:"
   ]
  },
  {
   "cell_type": "code",
   "execution_count": 19,
   "id": "59503314",
   "metadata": {},
   "outputs": [
    {
     "name": "stdout",
     "output_type": "stream",
     "text": [
      "['a', 'b', 'j', 'c', 'd', 'z']\n"
     ]
    }
   ],
   "source": [
    "l1 = ['a','b','c','d']\n",
    "l1.append('z')           #append adds at the end of list                \n",
    "l1.insert(2,'j')          #insert adds at the specified position of the list\n",
    "print(l1)"
   ]
  },
  {
   "cell_type": "markdown",
   "id": "d17ee0f0",
   "metadata": {},
   "source": [
    "11. What are the two methods for removing items from a list?\n",
    "Ans: The del statement and the remove() method are two ways to remove values from a list"
   ]
  },
  {
   "cell_type": "markdown",
   "id": "3905240f",
   "metadata": {},
   "source": [
    "12. Describe how list values and string values are identical.\n",
    "Ans: Both lists and strings can be passed to len() function, used in for loops,concatenated or replicated, used in insertion deletion of lists"
   ]
  },
  {
   "cell_type": "markdown",
   "id": "ef8739de",
   "metadata": {},
   "source": [
    "13. What's the difference between tuples and lists?\n",
    "Ans: Lists are Mutable, Tuples are immutable.Lists are Indexable and Slicable. values can be added, removed, or changed. Tuples are also Indexable and Slicable.Tuple values cannot be changed at all. "
   ]
  },
  {
   "cell_type": "markdown",
   "id": "a09c9bb5",
   "metadata": {},
   "source": [
    "14. How do you type a tuple value that only contains the integer 42?\n",
    "Ans:"
   ]
  },
  {
   "cell_type": "code",
   "execution_count": 21,
   "id": "60e1e9f1",
   "metadata": {},
   "outputs": [
    {
     "name": "stdout",
     "output_type": "stream",
     "text": [
      "<class 'int'>\n",
      "<class 'tuple'>\n"
     ]
    }
   ],
   "source": [
    "tup1=(42)\n",
    "tup2=(42,)\n",
    "print(type(tup1))\n",
    "print(type(tup2))"
   ]
  },
  {
   "cell_type": "markdown",
   "id": "7419ce84",
   "metadata": {},
   "source": [
    "15. How do you get a list value's tuple form? How do you get a tuple value's list form?\n",
    "Ans: The tuple() and list() functions are used to convert a list to tuple and tuple to list\n",
    "\n",
    "16. Variables that \"contain\" list values are not necessarily lists themselves. Instead, what do they contain?\n",
    "Ans: They contain references to list values.\n",
    "\n",
    "17. How do you distinguish between copy.copy() and copy.deepcopy()?\n",
    "Ans: The copy.copy() function will do a shallow copy of a list, while the copy.deepcopy() function will do a deep copy of a list. That is, only copy.deepcopy() will duplicate any lists inside the list."
   ]
  }
 ],
 "metadata": {
  "kernelspec": {
   "display_name": "Python 3 (ipykernel)",
   "language": "python",
   "name": "python3"
  },
  "language_info": {
   "codemirror_mode": {
    "name": "ipython",
    "version": 3
   },
   "file_extension": ".py",
   "mimetype": "text/x-python",
   "name": "python",
   "nbconvert_exporter": "python",
   "pygments_lexer": "ipython3",
   "version": "3.9.12"
  }
 },
 "nbformat": 4,
 "nbformat_minor": 5
}
