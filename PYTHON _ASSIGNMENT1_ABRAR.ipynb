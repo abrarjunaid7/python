{
 "cells": [
  {
   "cell_type": "markdown",
   "id": "5b3724d0",
   "metadata": {},
   "source": [
    "# PYTHON BASICS ASSIGNMENT 1 SOLUTONS:\n",
    "1. In the below elements which of them are values or an expression? eg:- values can be\n",
    "integer or string and expressions will be mathematical operators.\n",
    "*,'hello', -87.8,-,/,+,6\n",
    "ANS: From the above given question,There are three expressions AND four operators.\n",
    "     EXPRESSIONS :: 'hello' ,-87.8 , 6 \n",
    "     OPERATORS   :: *  -  /  +\n",
    "2. What is the difference between string and variable?\n",
    "ANS: VARIABLE :: Variable is used to store any type of information.EG: my_var= 3,my_var='junaid'.\n",
    "     STRING   :: String is a type of information you would store in a Variable.Strings are enclosed                     in \" \" or ''.String group of characters.my_var= \"my name is abrar junaid\".\n",
    "3. Describe three different Data Types ?\n",
    "ANS: DATA TYPES in python are:\n",
    "     Text Type:\tstr\n",
    "     Numeric Types:\tint, float, complex\n",
    "     Sequence Types: list, tuple, set,dictionary\n",
    "\n"
   ]
  },
  {
   "cell_type": "code",
   "execution_count": 1,
   "id": "bcc324c1",
   "metadata": {},
   "outputs": [
    {
     "name": "stdout",
     "output_type": "stream",
     "text": [
      "124 <class 'int'>\n",
      "2.12e+54 <class 'float'>\n",
      "(1+4j) <class 'complex'>\n"
     ]
    }
   ],
   "source": [
    "# Example for int data type\n",
    "integer_type=124\n",
    "print(integer_type, type(integer_type))\n",
    "# Example for float data type\n",
    "float_number=21.2e53\n",
    "print(float_number, type(float_number))\n",
    "# Example for Complex data type\n",
    "complex_number=1+4j\n",
    "print(complex_number, type(complex_number))"
   ]
  },
  {
   "cell_type": "markdown",
   "id": "59eb7ab0",
   "metadata": {},
   "source": [
    "4. What is an expression made up of? What do all expressions do?\n",
    "ANS: An expression is a combination of values, variables, operators, and calls to functions.              Expressions need to be evaluated."
   ]
  },
  {
   "cell_type": "code",
   "execution_count": 2,
   "id": "ae19eb2d",
   "metadata": {},
   "outputs": [
    {
     "name": "stdout",
     "output_type": "stream",
     "text": [
      "40\n"
     ]
    }
   ],
   "source": [
    "#Example of Expression..\n",
    "a=5*7+5\n",
    "print(a)\n"
   ]
  },
  {
   "cell_type": "markdown",
   "id": "cea7cc8e",
   "metadata": {},
   "source": [
    "5. This assignment statements, like spam = 10. What is the difference between an\n",
    "   expression and a statement?\n",
    "ANS: EXPRESSION :: An expression is a combination of values, variables, operators, and calls to            functions.Expressions need to be evaluated.The interpreter evaluates it, which means that it          finds the value of the expression.\n",
    "     STATEMENT :: A statement is a unit of code that has an effect, like creating a variable or            displaying a value.\n"
   ]
  },
  {
   "cell_type": "code",
   "execution_count": 3,
   "id": "f2d82a1e",
   "metadata": {},
   "outputs": [
    {
     "name": "stdout",
     "output_type": "stream",
     "text": [
      "I have enrolled in data science\n"
     ]
    }
   ],
   "source": [
    "#EXAMPLE OF DIFFERENCE BETWEEN AN EXPRESSION AND A STATEMENT\n",
    "a=5*5-5 #Expression\n",
    "my_name = 'shaik abrar junaid' #Statement\n",
    "print(\"I have enrolled in data science\") #Expression Statement\n"
   ]
  },
  {
   "cell_type": "markdown",
   "id": "e57ee28a",
   "metadata": {},
   "source": [
    "6. After running the following code, what does the variable bacon contain?\n",
    "bacon = 22\n",
    "bacon + 1\n",
    "ANS: The variable bacon contains 22 value.Because bacon + 1 does not reassign to the value.So bacon        is set to 22."
   ]
  },
  {
   "cell_type": "code",
   "execution_count": 5,
   "id": "ef614132",
   "metadata": {},
   "outputs": [
    {
     "name": "stdout",
     "output_type": "stream",
     "text": [
      "22\n"
     ]
    }
   ],
   "source": [
    "bacon = 22\n",
    "bacon + 1\n",
    "print(bacon)"
   ]
  },
  {
   "cell_type": "markdown",
   "id": "a6c669d1",
   "metadata": {},
   "source": [
    "7. What should the values of the following two terms be?\n",
    "'spam'+'spamspam'\n",
    "'spam'*3\n",
    "ANS: Both gives output as 'spamspamspam'.String concatenation and String multiplictaion are used."
   ]
  },
  {
   "cell_type": "code",
   "execution_count": 7,
   "id": "40ddb816",
   "metadata": {},
   "outputs": [
    {
     "name": "stdout",
     "output_type": "stream",
     "text": [
      "spamspamspam\n",
      "spamspamspam\n"
     ]
    }
   ],
   "source": [
    "print('spam'+'spamspam')   #String concatenation\n",
    "print('spam'*3)   #String Multiplication"
   ]
  },
  {
   "cell_type": "markdown",
   "id": "122ae271",
   "metadata": {},
   "source": [
    "8. Why is eggs a valid variable name while 100 is invalid?\n",
    "ANS: There are some rules for naming a variable: \n",
    "    Variable name must start with a letter or the underscore character.\n",
    "    Variable name cannot start with a number.\n",
    "    Variable name can only contain alpha-numeric characters and underscores (A-z, 0-9, & _ ).\n",
    "    Variable names are case-sensitive (name, INEURON and ineuron are three different variables).\n",
    "    The reserved words(keywords) cannot be used naming the variable.\n",
    "    AS VARIBLES NAMES CANNOT START WITH A NUMBER 100 IS INVALID VARIABLE."
   ]
  },
  {
   "cell_type": "code",
   "execution_count": 8,
   "id": "fd142fe5",
   "metadata": {},
   "outputs": [
    {
     "ename": "SyntaxError",
     "evalue": "cannot assign to literal (505742317.py, line 2)",
     "output_type": "error",
     "traceback": [
      "\u001b[1;36m  Input \u001b[1;32mIn [8]\u001b[1;36m\u001b[0m\n\u001b[1;33m    100=a\u001b[0m\n\u001b[1;37m    ^\u001b[0m\n\u001b[1;31mSyntaxError\u001b[0m\u001b[1;31m:\u001b[0m cannot assign to literal\n"
     ]
    }
   ],
   "source": [
    "eggs=a\n",
    "100=a\n",
    "print(eggs)\n",
    "print(100)"
   ]
  },
  {
   "cell_type": "code",
   "execution_count": 9,
   "id": "f006126c",
   "metadata": {},
   "outputs": [
    {
     "name": "stdout",
     "output_type": "stream",
     "text": [
      "int(10.0) is  10\n",
      "float(10) is 10.0\n",
      "str(10) is  10\n"
     ]
    }
   ],
   "source": [
    "# Examples\n",
    "print('int(10.0) is ',int(10.0)) # int() function converts given input to int\n",
    "print('float(10) is',float(10)) # float() function converts given input to float\n",
    "print('str(10) is ',str(10)) # str() function converts given input to string"
   ]
  },
  {
   "cell_type": "markdown",
   "id": "e835d63f",
   "metadata": {},
   "source": [
    "10. Why does this expression cause an error? How can you fix it?\n",
    " 'I have eaten ' + 99 + 'burritos.'\n",
    " ANS:Expession is giving error because,99 is not a string So 99 must be typecasted to a string to fix      this error."
   ]
  },
  {
   "cell_type": "code",
   "execution_count": 10,
   "id": "e130b479",
   "metadata": {},
   "outputs": [
    {
     "name": "stdout",
     "output_type": "stream",
     "text": [
      "I have eaten 99 burritos\n"
     ]
    }
   ],
   "source": [
    "#after fixing error\n",
    "print('I have eaten '+str(99)+' burritos')"
   ]
  }
 ],
 "metadata": {
  "kernelspec": {
   "display_name": "Python 3 (ipykernel)",
   "language": "python",
   "name": "python3"
  },
  "language_info": {
   "codemirror_mode": {
    "name": "ipython",
    "version": 3
   },
   "file_extension": ".py",
   "mimetype": "text/x-python",
   "name": "python",
   "nbconvert_exporter": "python",
   "pygments_lexer": "ipython3",
   "version": "3.9.12"
  }
 },
 "nbformat": 4,
 "nbformat_minor": 5
}
